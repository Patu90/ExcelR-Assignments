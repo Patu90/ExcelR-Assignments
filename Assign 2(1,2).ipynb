{
 "cells": [
  {
   "cell_type": "code",
   "execution_count": 9,
   "id": "da2a907f",
   "metadata": {},
   "outputs": [],
   "source": [
    "import numpy as np\n",
    "import scipy.stats as stats"
   ]
  },
  {
   "cell_type": "code",
   "execution_count": 10,
   "id": "f2170841",
   "metadata": {},
   "outputs": [
    {
     "data": {
      "text/plain": [
       "[1.13,\n",
       " 1.55,\n",
       " 1.43,\n",
       " 0.92,\n",
       " 1.25,\n",
       " 1.36,\n",
       " 1.32,\n",
       " 0.85,\n",
       " 1.07,\n",
       " 1.48,\n",
       " 1.2,\n",
       " 1.33,\n",
       " 1.18,\n",
       " 1.22,\n",
       " 1.29]"
      ]
     },
     "execution_count": 10,
     "metadata": {},
     "output_type": "execute_result"
    }
   ],
   "source": [
    "data = [1.13, 1.55, 1.43, 0.92, 1.25, 1.36, 1.32, 0.85, 1.07, 1.48, 1.20, 1.33, 1.18, 1.22, 1.29]\n",
    "data"
   ]
  },
  {
   "cell_type": "code",
   "execution_count": 16,
   "id": "0a3fa9f5",
   "metadata": {},
   "outputs": [],
   "source": [
    "n=len(data)"
   ]
  },
  {
   "cell_type": "code",
   "execution_count": 17,
   "id": "f78f0d23",
   "metadata": {},
   "outputs": [
    {
     "data": {
      "text/plain": [
       "1.2386666666666666"
      ]
     },
     "execution_count": 17,
     "metadata": {},
     "output_type": "execute_result"
    }
   ],
   "source": [
    "mean = np.mean(data)\n",
    "mean"
   ]
  },
  {
   "cell_type": "code",
   "execution_count": 20,
   "id": "e59a2170",
   "metadata": {},
   "outputs": [
    {
     "data": {
      "text/plain": [
       "0.19316412956959936"
      ]
     },
     "execution_count": 20,
     "metadata": {},
     "output_type": "execute_result"
    }
   ],
   "source": [
    "std_dev = np.std(data, ddof = 1) #ddof=adjust the divisor n-1\n",
    "std_dev"
   ]
  },
  {
   "cell_type": "code",
   "execution_count": 1,
   "id": "b94f5e24-05a0-49d5-a99b-c8a78b701741",
   "metadata": {},
   "outputs": [],
   "source": [
    "#a. Build 99% Confidence Interval Using Sample Standard Deviation"
   ]
  },
  {
   "cell_type": "code",
   "execution_count": 26,
   "id": "3b863f04",
   "metadata": {},
   "outputs": [
    {
     "name": "stdout",
     "output_type": "stream",
     "text": [
      "t_critical: 2.97684273411266\n",
      "Margin of error is: 0.1484693282152996\n",
      "Confidence interval is: (1.090197338451367, 1.3871359948819662)\n"
     ]
    }
   ],
   "source": [
    "n = len(data)\n",
    "df = n-1\n",
    "confidence_level = 0.99\n",
    "\n",
    "t_critical = stats.t.ppf((1+ confidence_level) /2, df)\n",
    "margin_of_error = t_critical * (std_dev / np.sqrt(n))\n",
    "\n",
    "#confidence interval=mean+ME,mean-ME\n",
    "confidence_interval = (mean - margin_of_error, mean + margin_of_error)\n",
    "\n",
    "print(\"t_critical:\",t_critical) \n",
    "print(\"Margin of error is:\",margin_of_error)\n",
    "print(\"Confidence interval is:\",confidence_interval)"
   ]
  },
  {
   "cell_type": "code",
   "execution_count": 27,
   "id": "5a0bc4f5",
   "metadata": {},
   "outputs": [],
   "source": [
    "#b. Build 99% Confidence Interval Using Known Population Standard Deviation\n",
    "# the population standard deviation is 0.2 million characters, construct a 99% confidence interval"
   ]
  },
  {
   "cell_type": "code",
   "execution_count": 31,
   "id": "4007009a",
   "metadata": {},
   "outputs": [
    {
     "name": "stdout",
     "output_type": "stream",
     "text": [
      "Mean is:  1.2386666666666666\n",
      "Sigma is : 0.2\n",
      "Margin Of the Error is: 0.13301525327090588\n",
      "Confidence interval is : (1.1056514133957607, 1.3716819199375725)\n"
     ]
    }
   ],
   "source": [
    "# data = [1.13, 1.55, 1.43, 0.92, 1.25, 1.36, 1.32, 0.85, 1.07, 1.48, 1.20, 1.33, 1.18, 1.22, 1.29]\n",
    "# n = len(data)\n",
    "# mean = np.mean(data)\n",
    "\n",
    "# Population standard deviation\n",
    "sigma = 0.2\n",
    "confidence_level = 0.99\n",
    "\n",
    "z_critical = stats.norm.ppf((1 + confidence_level) / 2)\n",
    "\n",
    "margin_of_error = z_critical * (sigma / np.sqrt(n))\n",
    "\n",
    "confidence_interval = (mean - margin_of_error, mean + margin_of_error)\n",
    "\n",
    "print(\"Mean is: \",mean)\n",
    "print(\"Sigma is :\",sigma)\n",
    "print(\"Margin Of the Error is:\",margin_of_error)\n",
    "print(\"Confidence interval is :\",confidence_interval)"
   ]
  },
  {
   "cell_type": "code",
   "execution_count": null,
   "id": "ecca1669",
   "metadata": {},
   "outputs": [],
   "source": []
  }
 ],
 "metadata": {
  "kernelspec": {
   "display_name": "Python 3 (ipykernel)",
   "language": "python",
   "name": "python3"
  },
  "language_info": {
   "codemirror_mode": {
    "name": "ipython",
    "version": 3
   },
   "file_extension": ".py",
   "mimetype": "text/x-python",
   "name": "python",
   "nbconvert_exporter": "python",
   "pygments_lexer": "ipython3",
   "version": "3.12.4"
  }
 },
 "nbformat": 4,
 "nbformat_minor": 5
}
