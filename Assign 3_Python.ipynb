{
 "cells": [
  {
   "cell_type": "code",
   "execution_count": null,
   "id": "9a3cd37c",
   "metadata": {},
   "outputs": [],
   "source": [
    "#Q.1 Prime Numbers"
   ]
  },
  {
   "cell_type": "code",
   "execution_count": 3,
   "id": "ab091c4a",
   "metadata": {},
   "outputs": [
    {
     "name": "stdout",
     "output_type": "stream",
     "text": [
      "Enter a number: 3\n",
      "3 is a prime number.\n"
     ]
    }
   ],
   "source": [
    "def is_prime(n):\n",
    "    \"Check if a number is prime.\"\n",
    "    if n <= 1:\n",
    "        return False\n",
    "    if n == 2:\n",
    "        return True\n",
    "    if n % 2 == 0:\n",
    "        return False\n",
    "    for i in range(3, int(n**0.5) + 1, 2):\n",
    "        if n % i == 0:\n",
    "            return False\n",
    "    return True\n",
    "\n",
    "\n",
    "number = int(input(\"Enter a number: \"))\n",
    "if is_prime(number):\n",
    "    print(f\"{number} is a prime number.\")\n",
    "else:\n",
    "    print(f\"{number} is not a prime number.\")\n"
   ]
  },
  {
   "cell_type": "code",
   "execution_count": 4,
   "id": "a2224149",
   "metadata": {},
   "outputs": [],
   "source": [
    "#Q.2 Product of Random Numbers"
   ]
  },
  {
   "cell_type": "code",
   "execution_count": 5,
   "id": "76dbaee5",
   "metadata": {},
   "outputs": [
    {
     "name": "stdout",
     "output_type": "stream",
     "text": [
      "What is the product of 5 and 8? 30\n",
      "Incorrect. The correct answer is 40.\n"
     ]
    }
   ],
   "source": [
    "import random\n",
    "\n",
    "def multiplication():\n",
    "    num1 = random.randint(1, 10)\n",
    "    num2 = random.randint(1, 10)\n",
    "    \n",
    "    correct_answer = num1 * num2\n",
    "    \n",
    "    user_answer = int(input(f\"What is the product of {num1} and {num2}? \"))\n",
    "    \n",
    "    if user_answer == correct_answer:\n",
    "        print(\"Correct! Well done!\")\n",
    "    else:\n",
    "        print(f\"Incorrect. The correct answer is {correct_answer}.\")\n",
    "\n",
    "\n",
    "multiplication()\n"
   ]
  },
  {
   "cell_type": "code",
   "execution_count": 26,
   "id": "e973c3ea",
   "metadata": {},
   "outputs": [],
   "source": [
    "#Q.3 Squares of Even or Odd numbers"
   ]
  },
  {
   "cell_type": "code",
   "execution_count": 8,
   "id": "7b07b6eb",
   "metadata": {},
   "outputs": [
    {
     "name": "stdout",
     "output_type": "stream",
     "text": [
      "The square of 100 is 10000\n",
      "The square of 102 is 10404\n",
      "The square of 104 is 10816\n",
      "The square of 106 is 11236\n",
      "The square of 108 is 11664\n",
      "The square of 110 is 12100\n",
      "The square of 112 is 12544\n",
      "The square of 114 is 12996\n",
      "The square of 116 is 13456\n",
      "The square of 118 is 13924\n",
      "The square of 120 is 14400\n",
      "The square of 122 is 14884\n",
      "The square of 124 is 15376\n",
      "The square of 126 is 15876\n",
      "The square of 128 is 16384\n",
      "The square of 130 is 16900\n",
      "The square of 132 is 17424\n",
      "The square of 134 is 17956\n",
      "The square of 136 is 18496\n",
      "The square of 138 is 19044\n",
      "The square of 140 is 19600\n",
      "The square of 142 is 20164\n",
      "The square of 144 is 20736\n",
      "The square of 146 is 21316\n",
      "The square of 148 is 21904\n",
      "The square of 150 is 22500\n",
      "The square of 152 is 23104\n",
      "The square of 154 is 23716\n",
      "The square of 156 is 24336\n",
      "The square of 158 is 24964\n",
      "The square of 160 is 25600\n",
      "The square of 162 is 26244\n",
      "The square of 164 is 26896\n",
      "The square of 166 is 27556\n",
      "The square of 168 is 28224\n",
      "The square of 170 is 28900\n",
      "The square of 172 is 29584\n",
      "The square of 174 is 30276\n",
      "The square of 176 is 30976\n",
      "The square of 178 is 31684\n",
      "The square of 180 is 32400\n",
      "The square of 182 is 33124\n",
      "The square of 184 is 33856\n",
      "The square of 186 is 34596\n",
      "The square of 188 is 35344\n",
      "The square of 190 is 36100\n",
      "The square of 192 is 36864\n",
      "The square of 194 is 37636\n",
      "The square of 196 is 38416\n",
      "The square of 198 is 39204\n",
      "The square of 200 is 40000\n"
     ]
    }
   ],
   "source": [
    "def even_numbers():\n",
    "    \n",
    "     for number in range(100, 201):  #201 is for to take 200\n",
    "        if number % 2 == 0:\n",
    "            print(f\"The square of {number} is {number**2}\")\n",
    "\n",
    "even_numbers()"
   ]
  },
  {
   "cell_type": "code",
   "execution_count": 2,
   "id": "4110319f",
   "metadata": {},
   "outputs": [],
   "source": [
    "#Q.4 Word Counter"
   ]
  },
  {
   "cell_type": "code",
   "execution_count": 57,
   "id": "9883ee6d",
   "metadata": {},
   "outputs": [
    {
     "name": "stdout",
     "output_type": "stream",
     "text": [
      "Number of words: 15\n"
     ]
    }
   ],
   "source": [
    "def count_words(input_text):\n",
    "  \n",
    "    words = input_text.split()\n",
    "    \n",
    "    \n",
    "    words_count = len(words)\n",
    "\n",
    "    return words_count\n",
    "\n",
    "input_text = \"This is a sample text. This text will be used to demonstrate the word counter.\"\n",
    "print(f\"Number of words: {count_words(input_text)}\")\n"
   ]
  },
  {
   "cell_type": "code",
   "execution_count": 1,
   "id": "ee826566",
   "metadata": {},
   "outputs": [
    {
     "name": "stdout",
     "output_type": "stream",
     "text": [
      "'this':2\n",
      "'is':1\n",
      "'a':1\n",
      "'sample':1\n",
      "'text':2\n",
      "'will':1\n",
      "'be':1\n",
      "'used':1\n",
      "'to':1\n",
      "'demonstrate':1\n",
      "'the':1\n",
      "'word':1\n",
      "'counter':1\n",
      "Total number of words: 15\n"
     ]
    }
   ],
   "source": [
    "from collections import Counter\n",
    "import re\n",
    "def count_words(input_text):\n",
    "    words = re.findall(r'\\b\\w+\\b', input_text.lower())\n",
    "    \n",
    "    words_count = Counter(words)\n",
    "    \n",
    "    total_words = len(words)\n",
    "    \n",
    "    return words_count, total_words\n",
    "   \n",
    "\n",
    "input_text = \"This is a sample text. This text will be used to demonstrate the word counter.\"\n",
    "words_count, total_words = count_words(input_text)\n",
    "\n",
    "for word, count in words_count.items():\n",
    "    print(f\"'{word}':{count}\")\n",
    "    \n",
    "print(f\"Total number of words: {total_words}\")"
   ]
  },
  {
   "cell_type": "code",
   "execution_count": 64,
   "id": "65fb96b4",
   "metadata": {},
   "outputs": [],
   "source": [
    "#Q.5 Check for Palindrome"
   ]
  },
  {
   "cell_type": "code",
   "execution_count": 17,
   "id": "185d64ad",
   "metadata": {},
   "outputs": [
    {
     "name": "stdout",
     "output_type": "stream",
     "text": [
      "True\n"
     ]
    }
   ],
   "source": [
    "def palindrome(s):\n",
    "    \n",
    "    cleaned_string = ''.join(char.lower() for char in s if char.isalnum())\n",
    "    left = 0\n",
    "    right = len(s) - 1\n",
    "    \n",
    "    while left<right : \n",
    "        if s[left]!= s[right]:\n",
    "            return False\n",
    "        \n",
    "        left+= 1\n",
    "        right-= 1\n",
    "        \n",
    "        return True\n",
    "    \n",
    "input_string = \"racecar\"\n",
    "print(palindrome(input_string)) "
   ]
  },
  {
   "cell_type": "code",
   "execution_count": null,
   "id": "b4de2f0f",
   "metadata": {},
   "outputs": [],
   "source": []
  }
 ],
 "metadata": {
  "kernelspec": {
   "display_name": "Python 3 (ipykernel)",
   "language": "python",
   "name": "python3"
  },
  "language_info": {
   "codemirror_mode": {
    "name": "ipython",
    "version": 3
   },
   "file_extension": ".py",
   "mimetype": "text/x-python",
   "name": "python",
   "nbconvert_exporter": "python",
   "pygments_lexer": "ipython3",
   "version": "3.9.12"
  }
 },
 "nbformat": 4,
 "nbformat_minor": 5
}
