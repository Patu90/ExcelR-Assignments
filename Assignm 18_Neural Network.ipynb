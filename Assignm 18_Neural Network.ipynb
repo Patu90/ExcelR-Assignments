{
 "cells": [
  {
   "cell_type": "markdown",
   "id": "5d54c5f3-8a4a-453c-9450-39f441626d9c",
   "metadata": {},
   "source": [
    "# Data Exploration and Preprocessing"
   ]
  },
  {
   "cell_type": "code",
   "execution_count": 1,
   "id": "7816372c-cb1c-49af-9b24-b18039fe6df5",
   "metadata": {},
   "outputs": [
    {
     "data": {
      "text/html": [
       "<div>\n",
       "<style scoped>\n",
       "    .dataframe tbody tr th:only-of-type {\n",
       "        vertical-align: middle;\n",
       "    }\n",
       "\n",
       "    .dataframe tbody tr th {\n",
       "        vertical-align: top;\n",
       "    }\n",
       "\n",
       "    .dataframe thead th {\n",
       "        text-align: right;\n",
       "    }\n",
       "</style>\n",
       "<table border=\"1\" class=\"dataframe\">\n",
       "  <thead>\n",
       "    <tr style=\"text-align: right;\">\n",
       "      <th></th>\n",
       "      <th>letter</th>\n",
       "      <th>xbox</th>\n",
       "      <th>ybox</th>\n",
       "      <th>width</th>\n",
       "      <th>height</th>\n",
       "      <th>onpix</th>\n",
       "      <th>xbar</th>\n",
       "      <th>ybar</th>\n",
       "      <th>x2bar</th>\n",
       "      <th>y2bar</th>\n",
       "      <th>xybar</th>\n",
       "      <th>x2ybar</th>\n",
       "      <th>xy2bar</th>\n",
       "      <th>xedge</th>\n",
       "      <th>xedgey</th>\n",
       "      <th>yedge</th>\n",
       "      <th>yedgex</th>\n",
       "    </tr>\n",
       "  </thead>\n",
       "  <tbody>\n",
       "    <tr>\n",
       "      <th>0</th>\n",
       "      <td>T</td>\n",
       "      <td>2</td>\n",
       "      <td>8</td>\n",
       "      <td>3</td>\n",
       "      <td>5</td>\n",
       "      <td>1</td>\n",
       "      <td>8</td>\n",
       "      <td>13</td>\n",
       "      <td>0</td>\n",
       "      <td>6</td>\n",
       "      <td>6</td>\n",
       "      <td>10</td>\n",
       "      <td>8</td>\n",
       "      <td>0</td>\n",
       "      <td>8</td>\n",
       "      <td>0</td>\n",
       "      <td>8</td>\n",
       "    </tr>\n",
       "    <tr>\n",
       "      <th>1</th>\n",
       "      <td>I</td>\n",
       "      <td>5</td>\n",
       "      <td>12</td>\n",
       "      <td>3</td>\n",
       "      <td>7</td>\n",
       "      <td>2</td>\n",
       "      <td>10</td>\n",
       "      <td>5</td>\n",
       "      <td>5</td>\n",
       "      <td>4</td>\n",
       "      <td>13</td>\n",
       "      <td>3</td>\n",
       "      <td>9</td>\n",
       "      <td>2</td>\n",
       "      <td>8</td>\n",
       "      <td>4</td>\n",
       "      <td>10</td>\n",
       "    </tr>\n",
       "    <tr>\n",
       "      <th>2</th>\n",
       "      <td>D</td>\n",
       "      <td>4</td>\n",
       "      <td>11</td>\n",
       "      <td>6</td>\n",
       "      <td>8</td>\n",
       "      <td>6</td>\n",
       "      <td>10</td>\n",
       "      <td>6</td>\n",
       "      <td>2</td>\n",
       "      <td>6</td>\n",
       "      <td>10</td>\n",
       "      <td>3</td>\n",
       "      <td>7</td>\n",
       "      <td>3</td>\n",
       "      <td>7</td>\n",
       "      <td>3</td>\n",
       "      <td>9</td>\n",
       "    </tr>\n",
       "    <tr>\n",
       "      <th>3</th>\n",
       "      <td>N</td>\n",
       "      <td>7</td>\n",
       "      <td>11</td>\n",
       "      <td>6</td>\n",
       "      <td>6</td>\n",
       "      <td>3</td>\n",
       "      <td>5</td>\n",
       "      <td>9</td>\n",
       "      <td>4</td>\n",
       "      <td>6</td>\n",
       "      <td>4</td>\n",
       "      <td>4</td>\n",
       "      <td>10</td>\n",
       "      <td>6</td>\n",
       "      <td>10</td>\n",
       "      <td>2</td>\n",
       "      <td>8</td>\n",
       "    </tr>\n",
       "    <tr>\n",
       "      <th>4</th>\n",
       "      <td>G</td>\n",
       "      <td>2</td>\n",
       "      <td>1</td>\n",
       "      <td>3</td>\n",
       "      <td>1</td>\n",
       "      <td>1</td>\n",
       "      <td>8</td>\n",
       "      <td>6</td>\n",
       "      <td>6</td>\n",
       "      <td>6</td>\n",
       "      <td>6</td>\n",
       "      <td>5</td>\n",
       "      <td>9</td>\n",
       "      <td>1</td>\n",
       "      <td>7</td>\n",
       "      <td>5</td>\n",
       "      <td>10</td>\n",
       "    </tr>\n",
       "  </tbody>\n",
       "</table>\n",
       "</div>"
      ],
      "text/plain": [
       "  letter  xbox  ybox  width  height  onpix  xbar  ybar  x2bar  y2bar  xybar  \\\n",
       "0      T     2     8      3       5      1     8    13      0      6      6   \n",
       "1      I     5    12      3       7      2    10     5      5      4     13   \n",
       "2      D     4    11      6       8      6    10     6      2      6     10   \n",
       "3      N     7    11      6       6      3     5     9      4      6      4   \n",
       "4      G     2     1      3       1      1     8     6      6      6      6   \n",
       "\n",
       "   x2ybar  xy2bar  xedge  xedgey  yedge  yedgex  \n",
       "0      10       8      0       8      0       8  \n",
       "1       3       9      2       8      4      10  \n",
       "2       3       7      3       7      3       9  \n",
       "3       4      10      6      10      2       8  \n",
       "4       5       9      1       7      5      10  "
      ]
     },
     "execution_count": 1,
     "metadata": {},
     "output_type": "execute_result"
    }
   ],
   "source": [
    "import pandas as pd\n",
    "import numpy as np\n",
    "from tensorflow.keras.models import Sequential\n",
    "from tensorflow.keras.layers import Dense\n",
    "import tensorflow as tf\n",
    "import numpy as np\n",
    "from sklearn.model_selection import ParameterGrid\n",
    "\n",
    "\n",
    "# Load the dataset\n",
    "df = pd.read_csv('Alphabets_data.csv')\n",
    "df.head()"
   ]
  },
  {
   "cell_type": "code",
   "execution_count": 2,
   "id": "748321a3-ffb1-4252-90e9-41ca15f8b85b",
   "metadata": {},
   "outputs": [
    {
     "name": "stdout",
     "output_type": "stream",
     "text": [
      "<class 'pandas.core.frame.DataFrame'>\n",
      "RangeIndex: 20000 entries, 0 to 19999\n",
      "Data columns (total 17 columns):\n",
      " #   Column  Non-Null Count  Dtype \n",
      "---  ------  --------------  ----- \n",
      " 0   letter  20000 non-null  object\n",
      " 1   xbox    20000 non-null  int64 \n",
      " 2   ybox    20000 non-null  int64 \n",
      " 3   width   20000 non-null  int64 \n",
      " 4   height  20000 non-null  int64 \n",
      " 5   onpix   20000 non-null  int64 \n",
      " 6   xbar    20000 non-null  int64 \n",
      " 7   ybar    20000 non-null  int64 \n",
      " 8   x2bar   20000 non-null  int64 \n",
      " 9   y2bar   20000 non-null  int64 \n",
      " 10  xybar   20000 non-null  int64 \n",
      " 11  x2ybar  20000 non-null  int64 \n",
      " 12  xy2bar  20000 non-null  int64 \n",
      " 13  xedge   20000 non-null  int64 \n",
      " 14  xedgey  20000 non-null  int64 \n",
      " 15  yedge   20000 non-null  int64 \n",
      " 16  yedgex  20000 non-null  int64 \n",
      "dtypes: int64(16), object(1)\n",
      "memory usage: 2.6+ MB\n"
     ]
    }
   ],
   "source": [
    "df.info()"
   ]
  },
  {
   "cell_type": "code",
   "execution_count": 3,
   "id": "ed0aff13-b046-47ea-bdd4-85fc79b73a99",
   "metadata": {},
   "outputs": [
    {
     "name": "stdout",
     "output_type": "stream",
     "text": [
      "Number of samples: 20000\n",
      "Number of features: 16\n",
      "Number of classes: 26\n"
     ]
    }
   ],
   "source": [
    "# Summarize key features\n",
    "print(\"Number of samples:\", len(df))\n",
    "print(\"Number of features:\", len(df.columns) - 1)  # Excluding the target column\n",
    "print(\"Number of classes:\", len(df['letter'].unique()))"
   ]
  },
  {
   "cell_type": "code",
   "execution_count": 4,
   "id": "3e1aa798-c8fc-4af8-bc81-7158fab1ff81",
   "metadata": {},
   "outputs": [],
   "source": [
    "# Split features and target variable\n",
    "X = df.iloc[:,1:16]\n",
    "y = df['letter']"
   ]
  },
  {
   "cell_type": "code",
   "execution_count": 5,
   "id": "6420781a-22ef-4d3e-bb22-a067e8b18887",
   "metadata": {},
   "outputs": [],
   "source": [
    "### Normalization\n",
    "from sklearn.preprocessing import StandardScaler\n",
    "# Scale the features\n",
    "scaler = StandardScaler()\n",
    "X = scaler.fit_transform(X)"
   ]
  },
  {
   "cell_type": "code",
   "execution_count": 6,
   "id": "96e5f419-6ed8-4834-8021-cfdab8db265f",
   "metadata": {},
   "outputs": [],
   "source": [
    "### label encoding\n",
    "from sklearn.preprocessing import LabelEncoder\n",
    "label_encoder = LabelEncoder()\n",
    "y = label_encoder.fit_transform(y)"
   ]
  },
  {
   "cell_type": "code",
   "execution_count": 7,
   "id": "bb715f5b-a860-43bc-8a0e-e88f1b1d9b45",
   "metadata": {},
   "outputs": [
    {
     "data": {
      "text/plain": [
       "((16000, 15), (4000, 15), (16000,), (4000,))"
      ]
     },
     "execution_count": 7,
     "metadata": {},
     "output_type": "execute_result"
    }
   ],
   "source": [
    "#### Split into training and testing\n",
    "from sklearn.model_selection import train_test_split\n",
    "X_train, X_test, y_train, y_test = train_test_split(X,y, test_size=0.20, random_state=41)\n",
    "X_train.shape, X_test.shape, y_train.shape, y_test.shape "
   ]
  },
  {
   "cell_type": "markdown",
   "id": "fe217c40-00b7-4d53-bf6d-4c517751e3b6",
   "metadata": {},
   "source": [
    "# Model Implementation"
   ]
  },
  {
   "cell_type": "code",
   "execution_count": 8,
   "id": "842e6631-3507-4f02-8a8b-db5b9cce170b",
   "metadata": {},
   "outputs": [],
   "source": [
    "# Initialize the ANN\n",
    "model = Sequential()"
   ]
  },
  {
   "cell_type": "code",
   "execution_count": 9,
   "id": "817c1db0-f4ce-45b1-8076-bb6b83e017ce",
   "metadata": {},
   "outputs": [
    {
     "name": "stderr",
     "output_type": "stream",
     "text": [
      "C:\\Users\\HP\\AppData\\Roaming\\Python\\Python312\\site-packages\\keras\\src\\layers\\core\\dense.py:87: UserWarning: Do not pass an `input_shape`/`input_dim` argument to a layer. When using Sequential models, prefer using an `Input(shape)` object as the first layer in the model instead.\n",
      "  super().__init__(activity_regularizer=activity_regularizer, **kwargs)\n"
     ]
    }
   ],
   "source": [
    "# Add the input layer and the first hidden layer\n",
    "model.add(Dense(units=16, activation='relu', input_dim=X_train.shape[1]))"
   ]
  },
  {
   "cell_type": "code",
   "execution_count": 10,
   "id": "b170f641-4e1d-4bab-b91f-184051a3761b",
   "metadata": {},
   "outputs": [],
   "source": [
    "# Add the second hidden layer (optional)\n",
    "model.add(Dense(units=8, activation='relu'))"
   ]
  },
  {
   "cell_type": "code",
   "execution_count": 11,
   "id": "554542d9-381b-4339-8356-2091f217482f",
   "metadata": {},
   "outputs": [],
   "source": [
    "# Add the output layer\n",
    "model.add(Dense(units=len(np.unique(y)), activation='softmax'))"
   ]
  },
  {
   "cell_type": "code",
   "execution_count": 12,
   "id": "e85a0158-287c-4b82-a8b4-636fd0826140",
   "metadata": {},
   "outputs": [],
   "source": [
    "# Compile the ANN\n",
    "model.compile(optimizer='adam', loss='sparse_categorical_crossentropy', metrics=['accuracy'])"
   ]
  },
  {
   "cell_type": "code",
   "execution_count": 13,
   "id": "e7705dde-9899-411a-a9ce-ac291c1d012d",
   "metadata": {},
   "outputs": [
    {
     "data": {
      "text/html": [
       "<pre style=\"white-space:pre;overflow-x:auto;line-height:normal;font-family:Menlo,'DejaVu Sans Mono',consolas,'Courier New',monospace\"><span style=\"font-weight: bold\">Model: \"sequential\"</span>\n",
       "</pre>\n"
      ],
      "text/plain": [
       "\u001b[1mModel: \"sequential\"\u001b[0m\n"
      ]
     },
     "metadata": {},
     "output_type": "display_data"
    },
    {
     "data": {
      "text/html": [
       "<pre style=\"white-space:pre;overflow-x:auto;line-height:normal;font-family:Menlo,'DejaVu Sans Mono',consolas,'Courier New',monospace\">┏━━━━━━━━━━━━━━━━━━━━━━━━━━━━━━━━━━━━━━┳━━━━━━━━━━━━━━━━━━━━━━━━━━━━━┳━━━━━━━━━━━━━━━━━┓\n",
       "┃<span style=\"font-weight: bold\"> Layer (type)                         </span>┃<span style=\"font-weight: bold\"> Output Shape                </span>┃<span style=\"font-weight: bold\">         Param # </span>┃\n",
       "┡━━━━━━━━━━━━━━━━━━━━━━━━━━━━━━━━━━━━━━╇━━━━━━━━━━━━━━━━━━━━━━━━━━━━━╇━━━━━━━━━━━━━━━━━┩\n",
       "│ dense (<span style=\"color: #0087ff; text-decoration-color: #0087ff\">Dense</span>)                        │ (<span style=\"color: #00d7ff; text-decoration-color: #00d7ff\">None</span>, <span style=\"color: #00af00; text-decoration-color: #00af00\">16</span>)                  │             <span style=\"color: #00af00; text-decoration-color: #00af00\">256</span> │\n",
       "├──────────────────────────────────────┼─────────────────────────────┼─────────────────┤\n",
       "│ dense_1 (<span style=\"color: #0087ff; text-decoration-color: #0087ff\">Dense</span>)                      │ (<span style=\"color: #00d7ff; text-decoration-color: #00d7ff\">None</span>, <span style=\"color: #00af00; text-decoration-color: #00af00\">8</span>)                   │             <span style=\"color: #00af00; text-decoration-color: #00af00\">136</span> │\n",
       "├──────────────────────────────────────┼─────────────────────────────┼─────────────────┤\n",
       "│ dense_2 (<span style=\"color: #0087ff; text-decoration-color: #0087ff\">Dense</span>)                      │ (<span style=\"color: #00d7ff; text-decoration-color: #00d7ff\">None</span>, <span style=\"color: #00af00; text-decoration-color: #00af00\">26</span>)                  │             <span style=\"color: #00af00; text-decoration-color: #00af00\">234</span> │\n",
       "└──────────────────────────────────────┴─────────────────────────────┴─────────────────┘\n",
       "</pre>\n"
      ],
      "text/plain": [
       "┏━━━━━━━━━━━━━━━━━━━━━━━━━━━━━━━━━━━━━━┳━━━━━━━━━━━━━━━━━━━━━━━━━━━━━┳━━━━━━━━━━━━━━━━━┓\n",
       "┃\u001b[1m \u001b[0m\u001b[1mLayer (type)                        \u001b[0m\u001b[1m \u001b[0m┃\u001b[1m \u001b[0m\u001b[1mOutput Shape               \u001b[0m\u001b[1m \u001b[0m┃\u001b[1m \u001b[0m\u001b[1m        Param #\u001b[0m\u001b[1m \u001b[0m┃\n",
       "┡━━━━━━━━━━━━━━━━━━━━━━━━━━━━━━━━━━━━━━╇━━━━━━━━━━━━━━━━━━━━━━━━━━━━━╇━━━━━━━━━━━━━━━━━┩\n",
       "│ dense (\u001b[38;5;33mDense\u001b[0m)                        │ (\u001b[38;5;45mNone\u001b[0m, \u001b[38;5;34m16\u001b[0m)                  │             \u001b[38;5;34m256\u001b[0m │\n",
       "├──────────────────────────────────────┼─────────────────────────────┼─────────────────┤\n",
       "│ dense_1 (\u001b[38;5;33mDense\u001b[0m)                      │ (\u001b[38;5;45mNone\u001b[0m, \u001b[38;5;34m8\u001b[0m)                   │             \u001b[38;5;34m136\u001b[0m │\n",
       "├──────────────────────────────────────┼─────────────────────────────┼─────────────────┤\n",
       "│ dense_2 (\u001b[38;5;33mDense\u001b[0m)                      │ (\u001b[38;5;45mNone\u001b[0m, \u001b[38;5;34m26\u001b[0m)                  │             \u001b[38;5;34m234\u001b[0m │\n",
       "└──────────────────────────────────────┴─────────────────────────────┴─────────────────┘\n"
      ]
     },
     "metadata": {},
     "output_type": "display_data"
    },
    {
     "data": {
      "text/html": [
       "<pre style=\"white-space:pre;overflow-x:auto;line-height:normal;font-family:Menlo,'DejaVu Sans Mono',consolas,'Courier New',monospace\"><span style=\"font-weight: bold\"> Total params: </span><span style=\"color: #00af00; text-decoration-color: #00af00\">626</span> (2.45 KB)\n",
       "</pre>\n"
      ],
      "text/plain": [
       "\u001b[1m Total params: \u001b[0m\u001b[38;5;34m626\u001b[0m (2.45 KB)\n"
      ]
     },
     "metadata": {},
     "output_type": "display_data"
    },
    {
     "data": {
      "text/html": [
       "<pre style=\"white-space:pre;overflow-x:auto;line-height:normal;font-family:Menlo,'DejaVu Sans Mono',consolas,'Courier New',monospace\"><span style=\"font-weight: bold\"> Trainable params: </span><span style=\"color: #00af00; text-decoration-color: #00af00\">626</span> (2.45 KB)\n",
       "</pre>\n"
      ],
      "text/plain": [
       "\u001b[1m Trainable params: \u001b[0m\u001b[38;5;34m626\u001b[0m (2.45 KB)\n"
      ]
     },
     "metadata": {},
     "output_type": "display_data"
    },
    {
     "data": {
      "text/html": [
       "<pre style=\"white-space:pre;overflow-x:auto;line-height:normal;font-family:Menlo,'DejaVu Sans Mono',consolas,'Courier New',monospace\"><span style=\"font-weight: bold\"> Non-trainable params: </span><span style=\"color: #00af00; text-decoration-color: #00af00\">0</span> (0.00 B)\n",
       "</pre>\n"
      ],
      "text/plain": [
       "\u001b[1m Non-trainable params: \u001b[0m\u001b[38;5;34m0\u001b[0m (0.00 B)\n"
      ]
     },
     "metadata": {},
     "output_type": "display_data"
    }
   ],
   "source": [
    "# Summary of the model\n",
    "model.summary()"
   ]
  },
  {
   "cell_type": "code",
   "execution_count": 14,
   "id": "3b0f03ab-b996-413f-8858-fae19c2c5984",
   "metadata": {
    "scrolled": true
   },
   "outputs": [
    {
     "name": "stdout",
     "output_type": "stream",
     "text": [
      "Epoch 1/50\n",
      "\u001b[1m1440/1440\u001b[0m \u001b[32m━━━━━━━━━━━━━━━━━━━━\u001b[0m\u001b[37m\u001b[0m \u001b[1m5s\u001b[0m 2ms/step - accuracy: 0.1431 - loss: 2.9477 - val_accuracy: 0.5019 - val_loss: 1.6635\n",
      "Epoch 2/50\n",
      "\u001b[1m1440/1440\u001b[0m \u001b[32m━━━━━━━━━━━━━━━━━━━━\u001b[0m\u001b[37m\u001b[0m \u001b[1m5s\u001b[0m 2ms/step - accuracy: 0.5583 - loss: 1.4859 - val_accuracy: 0.6388 - val_loss: 1.2629\n",
      "Epoch 3/50\n",
      "\u001b[1m1440/1440\u001b[0m \u001b[32m━━━━━━━━━━━━━━━━━━━━\u001b[0m\u001b[37m\u001b[0m \u001b[1m5s\u001b[0m 2ms/step - accuracy: 0.6539 - loss: 1.1734 - val_accuracy: 0.6712 - val_loss: 1.1297\n",
      "Epoch 4/50\n",
      "\u001b[1m1440/1440\u001b[0m \u001b[32m━━━━━━━━━━━━━━━━━━━━\u001b[0m\u001b[37m\u001b[0m \u001b[1m3s\u001b[0m 2ms/step - accuracy: 0.6924 - loss: 1.0513 - val_accuracy: 0.7075 - val_loss: 1.0434\n",
      "Epoch 5/50\n",
      "\u001b[1m1440/1440\u001b[0m \u001b[32m━━━━━━━━━━━━━━━━━━━━\u001b[0m\u001b[37m\u001b[0m \u001b[1m3s\u001b[0m 2ms/step - accuracy: 0.7111 - loss: 0.9934 - val_accuracy: 0.7188 - val_loss: 0.9985\n",
      "Epoch 6/50\n",
      "\u001b[1m1440/1440\u001b[0m \u001b[32m━━━━━━━━━━━━━━━━━━━━\u001b[0m\u001b[37m\u001b[0m \u001b[1m3s\u001b[0m 2ms/step - accuracy: 0.7271 - loss: 0.9405 - val_accuracy: 0.7319 - val_loss: 0.9532\n",
      "Epoch 7/50\n",
      "\u001b[1m1440/1440\u001b[0m \u001b[32m━━━━━━━━━━━━━━━━━━━━\u001b[0m\u001b[37m\u001b[0m \u001b[1m3s\u001b[0m 2ms/step - accuracy: 0.7393 - loss: 0.8840 - val_accuracy: 0.7444 - val_loss: 0.9157\n",
      "Epoch 8/50\n",
      "\u001b[1m1440/1440\u001b[0m \u001b[32m━━━━━━━━━━━━━━━━━━━━\u001b[0m\u001b[37m\u001b[0m \u001b[1m3s\u001b[0m 2ms/step - accuracy: 0.7446 - loss: 0.8590 - val_accuracy: 0.7450 - val_loss: 0.8975\n",
      "Epoch 9/50\n",
      "\u001b[1m1440/1440\u001b[0m \u001b[32m━━━━━━━━━━━━━━━━━━━━\u001b[0m\u001b[37m\u001b[0m \u001b[1m3s\u001b[0m 2ms/step - accuracy: 0.7561 - loss: 0.8276 - val_accuracy: 0.7450 - val_loss: 0.8785\n",
      "Epoch 10/50\n",
      "\u001b[1m1440/1440\u001b[0m \u001b[32m━━━━━━━━━━━━━━━━━━━━\u001b[0m\u001b[37m\u001b[0m \u001b[1m3s\u001b[0m 2ms/step - accuracy: 0.7511 - loss: 0.8425 - val_accuracy: 0.7563 - val_loss: 0.8561\n",
      "Epoch 11/50\n",
      "\u001b[1m1440/1440\u001b[0m \u001b[32m━━━━━━━━━━━━━━━━━━━━\u001b[0m\u001b[37m\u001b[0m \u001b[1m3s\u001b[0m 2ms/step - accuracy: 0.7581 - loss: 0.8182 - val_accuracy: 0.7688 - val_loss: 0.8291\n",
      "Epoch 12/50\n",
      "\u001b[1m1440/1440\u001b[0m \u001b[32m━━━━━━━━━━━━━━━━━━━━\u001b[0m\u001b[37m\u001b[0m \u001b[1m2s\u001b[0m 2ms/step - accuracy: 0.7616 - loss: 0.8059 - val_accuracy: 0.7706 - val_loss: 0.8240\n",
      "Epoch 13/50\n",
      "\u001b[1m1440/1440\u001b[0m \u001b[32m━━━━━━━━━━━━━━━━━━━━\u001b[0m\u001b[37m\u001b[0m \u001b[1m3s\u001b[0m 2ms/step - accuracy: 0.7770 - loss: 0.7576 - val_accuracy: 0.7700 - val_loss: 0.8057\n",
      "Epoch 14/50\n",
      "\u001b[1m1440/1440\u001b[0m \u001b[32m━━━━━━━━━━━━━━━━━━━━\u001b[0m\u001b[37m\u001b[0m \u001b[1m3s\u001b[0m 2ms/step - accuracy: 0.7758 - loss: 0.7448 - val_accuracy: 0.7681 - val_loss: 0.7868\n",
      "Epoch 15/50\n",
      "\u001b[1m1440/1440\u001b[0m \u001b[32m━━━━━━━━━━━━━━━━━━━━\u001b[0m\u001b[37m\u001b[0m \u001b[1m3s\u001b[0m 2ms/step - accuracy: 0.7729 - loss: 0.7549 - val_accuracy: 0.7681 - val_loss: 0.7845\n",
      "Epoch 16/50\n",
      "\u001b[1m1440/1440\u001b[0m \u001b[32m━━━━━━━━━━━━━━━━━━━━\u001b[0m\u001b[37m\u001b[0m \u001b[1m3s\u001b[0m 2ms/step - accuracy: 0.7828 - loss: 0.7371 - val_accuracy: 0.7756 - val_loss: 0.7704\n",
      "Epoch 17/50\n",
      "\u001b[1m1440/1440\u001b[0m \u001b[32m━━━━━━━━━━━━━━━━━━━━\u001b[0m\u001b[37m\u001b[0m \u001b[1m3s\u001b[0m 2ms/step - accuracy: 0.7833 - loss: 0.7232 - val_accuracy: 0.7837 - val_loss: 0.7517\n",
      "Epoch 18/50\n",
      "\u001b[1m1440/1440\u001b[0m \u001b[32m━━━━━━━━━━━━━━━━━━━━\u001b[0m\u001b[37m\u001b[0m \u001b[1m3s\u001b[0m 2ms/step - accuracy: 0.7875 - loss: 0.7136 - val_accuracy: 0.7887 - val_loss: 0.7483\n",
      "Epoch 19/50\n",
      "\u001b[1m1440/1440\u001b[0m \u001b[32m━━━━━━━━━━━━━━━━━━━━\u001b[0m\u001b[37m\u001b[0m \u001b[1m3s\u001b[0m 2ms/step - accuracy: 0.7854 - loss: 0.7214 - val_accuracy: 0.7925 - val_loss: 0.7415\n",
      "Epoch 20/50\n",
      "\u001b[1m1440/1440\u001b[0m \u001b[32m━━━━━━━━━━━━━━━━━━━━\u001b[0m\u001b[37m\u001b[0m \u001b[1m3s\u001b[0m 2ms/step - accuracy: 0.7891 - loss: 0.7093 - val_accuracy: 0.7862 - val_loss: 0.7389\n",
      "Epoch 21/50\n",
      "\u001b[1m1440/1440\u001b[0m \u001b[32m━━━━━━━━━━━━━━━━━━━━\u001b[0m\u001b[37m\u001b[0m \u001b[1m3s\u001b[0m 2ms/step - accuracy: 0.7921 - loss: 0.6958 - val_accuracy: 0.7944 - val_loss: 0.7253\n",
      "Epoch 22/50\n",
      "\u001b[1m1440/1440\u001b[0m \u001b[32m━━━━━━━━━━━━━━━━━━━━\u001b[0m\u001b[37m\u001b[0m \u001b[1m3s\u001b[0m 2ms/step - accuracy: 0.7901 - loss: 0.6990 - val_accuracy: 0.7937 - val_loss: 0.7232\n",
      "Epoch 23/50\n",
      "\u001b[1m1440/1440\u001b[0m \u001b[32m━━━━━━━━━━━━━━━━━━━━\u001b[0m\u001b[37m\u001b[0m \u001b[1m3s\u001b[0m 2ms/step - accuracy: 0.7986 - loss: 0.6899 - val_accuracy: 0.7962 - val_loss: 0.7165\n",
      "Epoch 24/50\n",
      "\u001b[1m1440/1440\u001b[0m \u001b[32m━━━━━━━━━━━━━━━━━━━━\u001b[0m\u001b[37m\u001b[0m \u001b[1m3s\u001b[0m 2ms/step - accuracy: 0.7989 - loss: 0.6711 - val_accuracy: 0.7987 - val_loss: 0.7169\n",
      "Epoch 25/50\n",
      "\u001b[1m1440/1440\u001b[0m \u001b[32m━━━━━━━━━━━━━━━━━━━━\u001b[0m\u001b[37m\u001b[0m \u001b[1m3s\u001b[0m 2ms/step - accuracy: 0.8014 - loss: 0.6688 - val_accuracy: 0.7937 - val_loss: 0.7118\n",
      "Epoch 26/50\n",
      "\u001b[1m1440/1440\u001b[0m \u001b[32m━━━━━━━━━━━━━━━━━━━━\u001b[0m\u001b[37m\u001b[0m \u001b[1m3s\u001b[0m 2ms/step - accuracy: 0.8017 - loss: 0.6645 - val_accuracy: 0.7994 - val_loss: 0.7108\n",
      "Epoch 27/50\n",
      "\u001b[1m1440/1440\u001b[0m \u001b[32m━━━━━━━━━━━━━━━━━━━━\u001b[0m\u001b[37m\u001b[0m \u001b[1m3s\u001b[0m 2ms/step - accuracy: 0.7928 - loss: 0.6816 - val_accuracy: 0.8012 - val_loss: 0.7075\n",
      "Epoch 28/50\n",
      "\u001b[1m1440/1440\u001b[0m \u001b[32m━━━━━━━━━━━━━━━━━━━━\u001b[0m\u001b[37m\u001b[0m \u001b[1m3s\u001b[0m 2ms/step - accuracy: 0.7982 - loss: 0.6691 - val_accuracy: 0.8019 - val_loss: 0.6951\n",
      "Epoch 29/50\n",
      "\u001b[1m1440/1440\u001b[0m \u001b[32m━━━━━━━━━━━━━━━━━━━━\u001b[0m\u001b[37m\u001b[0m \u001b[1m3s\u001b[0m 2ms/step - accuracy: 0.7981 - loss: 0.6747 - val_accuracy: 0.8069 - val_loss: 0.6958\n",
      "Epoch 30/50\n",
      "\u001b[1m1440/1440\u001b[0m \u001b[32m━━━━━━━━━━━━━━━━━━━━\u001b[0m\u001b[37m\u001b[0m \u001b[1m3s\u001b[0m 2ms/step - accuracy: 0.8004 - loss: 0.6668 - val_accuracy: 0.7987 - val_loss: 0.6909\n",
      "Epoch 31/50\n",
      "\u001b[1m1440/1440\u001b[0m \u001b[32m━━━━━━━━━━━━━━━━━━━━\u001b[0m\u001b[37m\u001b[0m \u001b[1m3s\u001b[0m 2ms/step - accuracy: 0.8056 - loss: 0.6380 - val_accuracy: 0.8069 - val_loss: 0.6878\n",
      "Epoch 32/50\n",
      "\u001b[1m1440/1440\u001b[0m \u001b[32m━━━━━━━━━━━━━━━━━━━━\u001b[0m\u001b[37m\u001b[0m \u001b[1m5s\u001b[0m 2ms/step - accuracy: 0.8049 - loss: 0.6613 - val_accuracy: 0.8119 - val_loss: 0.6877\n",
      "Epoch 33/50\n",
      "\u001b[1m1440/1440\u001b[0m \u001b[32m━━━━━━━━━━━━━━━━━━━━\u001b[0m\u001b[37m\u001b[0m \u001b[1m3s\u001b[0m 2ms/step - accuracy: 0.8038 - loss: 0.6331 - val_accuracy: 0.8112 - val_loss: 0.6802\n",
      "Epoch 34/50\n",
      "\u001b[1m1440/1440\u001b[0m \u001b[32m━━━━━━━━━━━━━━━━━━━━\u001b[0m\u001b[37m\u001b[0m \u001b[1m5s\u001b[0m 2ms/step - accuracy: 0.8058 - loss: 0.6421 - val_accuracy: 0.7987 - val_loss: 0.6914\n",
      "Epoch 35/50\n",
      "\u001b[1m1440/1440\u001b[0m \u001b[32m━━━━━━━━━━━━━━━━━━━━\u001b[0m\u001b[37m\u001b[0m \u001b[1m3s\u001b[0m 2ms/step - accuracy: 0.8068 - loss: 0.6418 - val_accuracy: 0.8075 - val_loss: 0.6833\n",
      "Epoch 36/50\n",
      "\u001b[1m1440/1440\u001b[0m \u001b[32m━━━━━━━━━━━━━━━━━━━━\u001b[0m\u001b[37m\u001b[0m \u001b[1m3s\u001b[0m 2ms/step - accuracy: 0.8147 - loss: 0.6259 - val_accuracy: 0.8000 - val_loss: 0.6777\n",
      "Epoch 37/50\n",
      "\u001b[1m1440/1440\u001b[0m \u001b[32m━━━━━━━━━━━━━━━━━━━━\u001b[0m\u001b[37m\u001b[0m \u001b[1m5s\u001b[0m 2ms/step - accuracy: 0.8123 - loss: 0.6224 - val_accuracy: 0.8112 - val_loss: 0.6800\n",
      "Epoch 38/50\n",
      "\u001b[1m1440/1440\u001b[0m \u001b[32m━━━━━━━━━━━━━━━━━━━━\u001b[0m\u001b[37m\u001b[0m \u001b[1m3s\u001b[0m 2ms/step - accuracy: 0.8084 - loss: 0.6346 - val_accuracy: 0.8069 - val_loss: 0.6777\n",
      "Epoch 39/50\n",
      "\u001b[1m1440/1440\u001b[0m \u001b[32m━━━━━━━━━━━━━━━━━━━━\u001b[0m\u001b[37m\u001b[0m \u001b[1m5s\u001b[0m 2ms/step - accuracy: 0.8090 - loss: 0.6324 - val_accuracy: 0.8081 - val_loss: 0.6780\n",
      "Epoch 40/50\n",
      "\u001b[1m1440/1440\u001b[0m \u001b[32m━━━━━━━━━━━━━━━━━━━━\u001b[0m\u001b[37m\u001b[0m \u001b[1m5s\u001b[0m 2ms/step - accuracy: 0.8166 - loss: 0.6083 - val_accuracy: 0.8138 - val_loss: 0.6808\n",
      "Epoch 41/50\n",
      "\u001b[1m1440/1440\u001b[0m \u001b[32m━━━━━━━━━━━━━━━━━━━━\u001b[0m\u001b[37m\u001b[0m \u001b[1m3s\u001b[0m 2ms/step - accuracy: 0.8081 - loss: 0.6322 - val_accuracy: 0.8131 - val_loss: 0.6738\n",
      "Epoch 42/50\n",
      "\u001b[1m1440/1440\u001b[0m \u001b[32m━━━━━━━━━━━━━━━━━━━━\u001b[0m\u001b[37m\u001b[0m \u001b[1m3s\u001b[0m 2ms/step - accuracy: 0.8109 - loss: 0.6330 - val_accuracy: 0.8037 - val_loss: 0.6703\n",
      "Epoch 43/50\n",
      "\u001b[1m1440/1440\u001b[0m \u001b[32m━━━━━━━━━━━━━━━━━━━━\u001b[0m\u001b[37m\u001b[0m \u001b[1m3s\u001b[0m 2ms/step - accuracy: 0.8082 - loss: 0.6282 - val_accuracy: 0.8175 - val_loss: 0.6580\n",
      "Epoch 44/50\n",
      "\u001b[1m1440/1440\u001b[0m \u001b[32m━━━━━━━━━━━━━━━━━━━━\u001b[0m\u001b[37m\u001b[0m \u001b[1m3s\u001b[0m 2ms/step - accuracy: 0.8181 - loss: 0.5905 - val_accuracy: 0.8144 - val_loss: 0.6601\n",
      "Epoch 45/50\n",
      "\u001b[1m1440/1440\u001b[0m \u001b[32m━━━━━━━━━━━━━━━━━━━━\u001b[0m\u001b[37m\u001b[0m \u001b[1m3s\u001b[0m 2ms/step - accuracy: 0.8125 - loss: 0.6191 - val_accuracy: 0.8156 - val_loss: 0.6596\n",
      "Epoch 46/50\n",
      "\u001b[1m1440/1440\u001b[0m \u001b[32m━━━━━━━━━━━━━━━━━━━━\u001b[0m\u001b[37m\u001b[0m \u001b[1m5s\u001b[0m 2ms/step - accuracy: 0.8120 - loss: 0.6170 - val_accuracy: 0.8081 - val_loss: 0.6683\n",
      "Epoch 47/50\n",
      "\u001b[1m1440/1440\u001b[0m \u001b[32m━━━━━━━━━━━━━━━━━━━━\u001b[0m\u001b[37m\u001b[0m \u001b[1m3s\u001b[0m 2ms/step - accuracy: 0.8115 - loss: 0.6132 - val_accuracy: 0.8112 - val_loss: 0.6564\n",
      "Epoch 48/50\n",
      "\u001b[1m1440/1440\u001b[0m \u001b[32m━━━━━━━━━━━━━━━━━━━━\u001b[0m\u001b[37m\u001b[0m \u001b[1m3s\u001b[0m 2ms/step - accuracy: 0.8147 - loss: 0.6065 - val_accuracy: 0.8194 - val_loss: 0.6604\n",
      "Epoch 49/50\n",
      "\u001b[1m1440/1440\u001b[0m \u001b[32m━━━━━━━━━━━━━━━━━━━━\u001b[0m\u001b[37m\u001b[0m \u001b[1m3s\u001b[0m 2ms/step - accuracy: 0.8144 - loss: 0.6069 - val_accuracy: 0.8194 - val_loss: 0.6570\n",
      "Epoch 50/50\n",
      "\u001b[1m1440/1440\u001b[0m \u001b[32m━━━━━━━━━━━━━━━━━━━━\u001b[0m\u001b[37m\u001b[0m \u001b[1m5s\u001b[0m 2ms/step - accuracy: 0.8181 - loss: 0.6061 - val_accuracy: 0.8144 - val_loss: 0.6632\n"
     ]
    }
   ],
   "source": [
    "# Train the model on the training set\n",
    "history = model.fit(X_train, y_train, epochs=50, batch_size=10, validation_split=0.1)"
   ]
  },
  {
   "cell_type": "code",
   "execution_count": 15,
   "id": "c96b7238-dd59-4da6-bf68-f6b13ca2d0fa",
   "metadata": {},
   "outputs": [
    {
     "name": "stdout",
     "output_type": "stream",
     "text": [
      "\u001b[1m500/500\u001b[0m \u001b[32m━━━━━━━━━━━━━━━━━━━━\u001b[0m\u001b[37m\u001b[0m \u001b[1m1s\u001b[0m 1ms/step - accuracy: 0.8169 - loss: 0.6024\n",
      "train Accuracy: 81.74%\n"
     ]
    }
   ],
   "source": [
    "# evaluate the model\n",
    "# Evaluate the model on the train set\n",
    "loss, accuracy = model.evaluate(X_train, y_train)\n",
    "print(f'train Accuracy: {accuracy * 100:.2f}%')"
   ]
  },
  {
   "cell_type": "code",
   "execution_count": 16,
   "id": "e5804d64-794b-41c0-9b7a-c84118391d2b",
   "metadata": {},
   "outputs": [
    {
     "name": "stdout",
     "output_type": "stream",
     "text": [
      "\u001b[1m500/500\u001b[0m \u001b[32m━━━━━━━━━━━━━━━━━━━━\u001b[0m\u001b[37m\u001b[0m \u001b[1m1s\u001b[0m 1ms/step\n"
     ]
    }
   ],
   "source": [
    "# Make predictions on the train set\n",
    "yhat_train = model.predict(X_train)\n",
    "y_pred_classes = yhat_train.argmax(axis=-1)"
   ]
  },
  {
   "cell_type": "code",
   "execution_count": 17,
   "id": "c6820fbf-f604-495c-920d-c3802dcd8123",
   "metadata": {
    "scrolled": true
   },
   "outputs": [
    {
     "name": "stdout",
     "output_type": "stream",
     "text": [
      "[[583   3   3   0   3   3   7   2   0   2   1   3   4   0   0   2   2   7\n",
      "    2   1   0   4   1   0   0   0]\n",
      " [  2 543   0   4   4   0   2   5   0   2   2   0   0   0   5   0   3  15\n",
      "   14   0   0   2   0   8   6   2]\n",
      " [  0   0 491   0  44   2  25   1   0   0  12   3   6   0   5   0  10   3\n",
      "    1   4   2   0   1   0   0   0]\n",
      " [  0  54   0 494   3   1   2  18   0   3   4   0   9  12   5   7   2  24\n",
      "    5   0   1   0   0   4   0   0]\n",
      " [  8   3   3   1 476   5  26   1   0   0  10   1   0   0   0   0   9   1\n",
      "   13   4   0   0   0  14   0  31]\n",
      " [  1  23   0   2  15 453   1   2   5   0   0   0   0   0   0  62   1   3\n",
      "   18  16   0   1   3   0  11   1]\n",
      " [  2   3  15   1   3   0 506   3   0   0   2   1   1   0   4   7  20   4\n",
      "   22   0  10  10   0   0   0   0]\n",
      " [  6  16   2  24   1   6  11 407   0   8  25   0  12   9   3   0   1  25\n",
      "    0   0   5  16   0   1   5   0]\n",
      " [  2   7   2   1   2   2   2   0 492  15   0   7   0   0   0  13   4   1\n",
      "   40   0   0   0   0  10   1   8]\n",
      " [  2  16   0   3   0   2   1   7  18 472   1   3   0   0   8   5   5   3\n",
      "   13   0   0   0   0  24   0   7]\n",
      " [  6   8   2   3  19   0   4  24   0   0 451   8   0   0   0   0   0  28\n",
      "    3   2   3   0   0  18   0   0]\n",
      " [  0   1   0   0  20   0   8   1   0   0   4 507   4   0   3   0  18   0\n",
      "    9  13   0   0   0  20   0   2]\n",
      " [  1   5   0   0   0   0   8   6   0   0   0   0 588   1   0   4   0   7\n",
      "    0   0   0   2  13   0   0   0]\n",
      " [  0   7   2   5   0   1   0  28   0   0   3   0  23 502  15   2   0  10\n",
      "    0   0   0   5   3   0   1   0]\n",
      " [  0   2   8  24   0   0  31  10   0   0   1   3   9   2 445   5  21   5\n",
      "    0   1   2   0  17   0   0   0]\n",
      " [  0   4   0   4   5  22   9   1   2   0   0   0   0   0   3 570   4   2\n",
      "    1   4   1   5   1   0  10   0]\n",
      " [  0  11   1   1   1   0  26   3   1   0   0  15   0   0  18   5 515   2\n",
      "    0   3   0   2   0   1  11   0]\n",
      " [  1  33   0  27  10   0  13  29   0   4  18   3   1   0  13   0   5 448\n",
      "    0   0   0   6   0   4   0   0]\n",
      " [  6  61   2   7  18  15   2   3  12   7   0   5   0   0   0   2   4   0\n",
      "  414   4   0   0   0   5   0  44]\n",
      " [  0   6   2   0  18   6   3   4   7   0  17   1   0   0   0   1   8   4\n",
      "    7 528   0   4   0  11   9   8]\n",
      " [  2   0   7   0   0   0  16  26   0   0   8   0  17   6   9   2   7   2\n",
      "    0   0 534   4   8   2   1   0]\n",
      " [  8  13   0   0   1   1   1   0   0   0   0   0   0   0   4   4   0   6\n",
      "    0   1   0 538  15   0  22   0]\n",
      " [  0   1   0   0   0   0   6  10   0   0   0   0   9   1   2   2   1   4\n",
      "    0   0   4   6 541   0   0   0]\n",
      " [  0   1   0   6  13   0   3   5   1  11  26  10   0   0   0   0   1   0\n",
      "    2  20   2   0   0 512   5   7]\n",
      " [  0   3   0   0   0   1   0   0   0   0   0   0   0   0   2   9   7   0\n",
      "    5  21   2  10   1   2 579   0]\n",
      " [  3   9   0   0  28   1   2   0   0   3   0   0   0   0   0   0   6   2\n",
      "   54   2   0   0   0   1   0 489]]\n",
      "              precision    recall  f1-score   support\n",
      "\n",
      "           0       0.92      0.92      0.92       633\n",
      "           1       0.65      0.88      0.75       619\n",
      "           2       0.91      0.80      0.85       610\n",
      "           3       0.81      0.76      0.79       648\n",
      "           4       0.70      0.79      0.74       606\n",
      "           5       0.87      0.73      0.80       618\n",
      "           6       0.71      0.82      0.76       614\n",
      "           7       0.68      0.70      0.69       583\n",
      "           8       0.91      0.81      0.86       609\n",
      "           9       0.90      0.80      0.85       590\n",
      "          10       0.77      0.78      0.77       579\n",
      "          11       0.89      0.83      0.86       610\n",
      "          12       0.86      0.93      0.89       635\n",
      "          13       0.94      0.83      0.88       607\n",
      "          14       0.82      0.76      0.79       586\n",
      "          15       0.81      0.88      0.84       648\n",
      "          16       0.79      0.84      0.81       616\n",
      "          17       0.74      0.73      0.73       615\n",
      "          18       0.66      0.68      0.67       611\n",
      "          19       0.85      0.82      0.83       644\n",
      "          20       0.94      0.82      0.88       651\n",
      "          21       0.87      0.88      0.88       614\n",
      "          22       0.90      0.92      0.91       587\n",
      "          23       0.80      0.82      0.81       625\n",
      "          24       0.88      0.90      0.89       642\n",
      "          25       0.82      0.81      0.82       600\n",
      "\n",
      "    accuracy                           0.82     16000\n",
      "   macro avg       0.82      0.82      0.82     16000\n",
      "weighted avg       0.82      0.82      0.82     16000\n",
      "\n"
     ]
    }
   ],
   "source": [
    "from sklearn.metrics import confusion_matrix, classification_report\n",
    "print(confusion_matrix(y_train, y_pred_classes ))\n",
    "print(classification_report(y_train, y_pred_classes ))"
   ]
  },
  {
   "cell_type": "code",
   "execution_count": 18,
   "id": "e8742a35-b421-4982-b4a7-d5a01674e3e9",
   "metadata": {},
   "outputs": [
    {
     "name": "stdout",
     "output_type": "stream",
     "text": [
      "\u001b[1m125/125\u001b[0m \u001b[32m━━━━━━━━━━━━━━━━━━━━\u001b[0m\u001b[37m\u001b[0m \u001b[1m0s\u001b[0m 1ms/step\n"
     ]
    }
   ],
   "source": [
    "# Make predictions on the test set\n",
    "yhat_test = model.predict(X_test)\n",
    "y_pred_classes1 = yhat_test.argmax(axis=-1)"
   ]
  },
  {
   "cell_type": "code",
   "execution_count": 19,
   "id": "d81aaf16-8d9e-46ec-876a-abd2ccba7aeb",
   "metadata": {
    "scrolled": true
   },
   "outputs": [
    {
     "name": "stdout",
     "output_type": "stream",
     "text": [
      "[[147   1   0   0   0   1   0   0   0   1   1   0   1   0   0   0   1   0\n",
      "    1   0   0   1   0   0   1   0]\n",
      " [  0 127   0   2   1   0   2   0   0   1   0   0   0   0   1   0   0   5\n",
      "    4   0   0   1   0   2   0   1]\n",
      " [  0   0  96   0  11   1   8   1   0   0   0   0   0   0   2   1   4   0\n",
      "    0   1   1   0   0   0   0   0]\n",
      " [  0  15   0 109   1   1   0   6   0   0   4   0   3   2   6   0   0   4\n",
      "    2   1   0   0   0   3   0   0]\n",
      " [  1   0   1   0 130   2   9   0   0   0   4   0   0   0   0   0   2   1\n",
      "    2   1   0   0   0   4   0   5]\n",
      " [  0   4   0   0   6 118   0   2   2   0   0   0   0   0   0  13   0   0\n",
      "    6   5   0   0   0   0   1   0]\n",
      " [  0   2   4   0   3   0 128   1   0   0   0   0   0   0   1   1   7   1\n",
      "    6   0   0   5   0   0   0   0]\n",
      " [  1   2   0   3   0   5   3 115   2   1   1   0   1   1   2   1   1   5\n",
      "    0   0   1   2   0   1   3   0]\n",
      " [  1   1   0   0   0   1   0   0 125   2   0   2   0   0   0   4   0   0\n",
      "    5   0   0   0   0   3   1   1]\n",
      " [  0   3   0   0   0   0   0   3   9 124   0   0   0   0   2   2   2   0\n",
      "    3   0   0   0   0   6   0   3]\n",
      " [  0   1   1   0   4   0   2  10   0   0 127   1   0   0   0   0   1  10\n",
      "    0   0   1   0   0   2   0   0]\n",
      " [  0   0   0   0   2   0   4   2   1   1   0 119   0   0   3   0   3   0\n",
      "    1   7   0   0   0   4   3   1]\n",
      " [  0   0   0   0   0   0   1   2   0   0   0   0 148   1   0   4   0   1\n",
      "    0   0   0   0   0   0   0   0]\n",
      " [  0   2   0   4   0   1   1  10   0   0   0   0   6 143   4   1   0   1\n",
      "    0   0   0   2   1   0   0   0]\n",
      " [  0   0   2   4   0   0   8   9   0   0   0   2   6   0 122   2   6   2\n",
      "    0   0   0   0   4   0   0   0]\n",
      " [  1   2   0   1   0   4   3   0   1   0   0   0   0   0   0 135   0   3\n",
      "    0   2   0   0   0   0   3   0]\n",
      " [  0   4   0   0   0   0   7   1   0   0   0   2   0   0   3   1 139   2\n",
      "    1   2   0   0   0   0   4   1]\n",
      " [  0   8   0   2   0   0   4   3   0   0   7   0   1   0   2   0   0 112\n",
      "    0   0   0   2   0   2   0   0]\n",
      " [  3  15   0   0   2   3   3   1   1   0   0   1   0   0   0   2   2   0\n",
      "   89   0   0   0   0   1   1  13]\n",
      " [  0   1   0   1   2   1   0   0   2   0   4   1   0   0   0   0   1   1\n",
      "    0 128   0   1   0   3   3   3]\n",
      " [  0   0   4   0   0   0   6   6   0   0   3   0   3   2   5   0   1   1\n",
      "    0   0 126   2   2   1   0   0]\n",
      " [  1   4   0   0   0   0   0   0   0   0   0   0   0   0   1   3   0   1\n",
      "    1   0   0 126   7   0   6   0]\n",
      " [  0   1   0   0   0   0   2   5   0   0   0   0   1   0   2   0   0   0\n",
      "    0   0   2   4 148   0   0   0]\n",
      " [  0   1   0   1   3   0   2   2   1   3   2   6   0   0   0   0   0   0\n",
      "    2   4   0   0   0 130   1   4]\n",
      " [  0   0   0   0   0   1   0   0   0   0   0   0   0   0   0   2   3   0\n",
      "    1   3   0   1   0   2 131   0]\n",
      " [  0   2   0   0   2   3   0   0   0   1   0   1   0   0   0   0   2   2\n",
      "   15   0   0   0   0   0   0 106]]\n",
      "              precision    recall  f1-score   support\n",
      "\n",
      "           0       0.95      0.94      0.95       156\n",
      "           1       0.65      0.86      0.74       147\n",
      "           2       0.89      0.76      0.82       126\n",
      "           3       0.86      0.69      0.77       157\n",
      "           4       0.78      0.80      0.79       162\n",
      "           5       0.83      0.75      0.79       157\n",
      "           6       0.66      0.81      0.73       159\n",
      "           7       0.64      0.76      0.70       151\n",
      "           8       0.87      0.86      0.86       146\n",
      "           9       0.93      0.79      0.85       157\n",
      "          10       0.83      0.79      0.81       160\n",
      "          11       0.88      0.79      0.83       151\n",
      "          12       0.87      0.94      0.91       157\n",
      "          13       0.96      0.81      0.88       176\n",
      "          14       0.78      0.73      0.76       167\n",
      "          15       0.78      0.87      0.83       155\n",
      "          16       0.79      0.83      0.81       167\n",
      "          17       0.74      0.78      0.76       143\n",
      "          18       0.64      0.65      0.64       137\n",
      "          19       0.83      0.84      0.84       152\n",
      "          20       0.96      0.78      0.86       162\n",
      "          21       0.86      0.84      0.85       150\n",
      "          22       0.91      0.90      0.91       165\n",
      "          23       0.79      0.80      0.80       162\n",
      "          24       0.83      0.91      0.87       144\n",
      "          25       0.77      0.79      0.78       134\n",
      "\n",
      "    accuracy                           0.81      4000\n",
      "   macro avg       0.82      0.81      0.81      4000\n",
      "weighted avg       0.82      0.81      0.81      4000\n",
      "\n"
     ]
    }
   ],
   "source": [
    "from sklearn.metrics import confusion_matrix, classification_report\n",
    "print(confusion_matrix(y_test, y_pred_classes1 ))\n",
    "print(classification_report(y_test, y_pred_classes1 ))"
   ]
  },
  {
   "cell_type": "raw",
   "id": "3f79d5ce-1683-4d48-9ce5-e6fe0dd37685",
   "metadata": {},
   "source": [
    "The model performs consistently well with an overall accuracy of around 80% on both the training and test sets.\n",
    "Precision, recall, and F1-scores indicate that the model is balanced in terms of false positives and false negatives for most classes.\n",
    "Certain classes, such as 18, show lower performance, indicating potential areas for improvement"
   ]
  },
  {
   "cell_type": "markdown",
   "id": "140ad33e-4c0f-4f09-a3d3-0c0b560fd6d7",
   "metadata": {},
   "source": [
    "# Hyperparameter Tuning"
   ]
  },
  {
   "cell_type": "code",
   "execution_count": 20,
   "id": "8d80a5e1-de45-473b-9aa3-0645a3f7ab32",
   "metadata": {},
   "outputs": [],
   "source": [
    "def create_model(hidden_layers=1, units=16, activation='relu', learning_rate=0.001):  # Model Creation Function\n",
    "    model = Sequential()\n",
    "    model.add(Dense(units=units, activation=activation, input_dim=X_train.shape[1]))\n",
    "\n",
    "    for _ in range(hidden_layers - 1):\n",
    "        model.add(Dense(units=units, activation=activation))\n",
    "\n",
    "    model.add(Dense(units=len(np.unique(y)), activation='softmax'))\n",
    "    \n",
    "    optimizer = tf.keras.optimizers.Adam(learning_rate=learning_rate)\n",
    "    model.compile(optimizer=optimizer, loss='sparse_categorical_crossentropy', metrics=['accuracy'])\n",
    "    return model"
   ]
  },
  {
   "cell_type": "code",
   "execution_count": 21,
   "id": "210669e7-c6ea-4512-a747-d7bd233ad238",
   "metadata": {},
   "outputs": [],
   "source": [
    "def evaluate_model(hidden_layers, units, activation, learning_rate):        #Model Evaluation Function\n",
    "    model = create_model(hidden_layers=hidden_layers, units=units, activation=activation, learning_rate=learning_rate)\n",
    "    model.fit(X_train, y_train, epochs=10, batch_size=10, verbose=0)\n",
    "    _, accuracy = model.evaluate(X_test, y_test, verbose=0)\n",
    "    return accuracy"
   ]
  },
  {
   "cell_type": "code",
   "execution_count": 22,
   "id": "0e5455a1-6c45-4ee3-bc48-32a26247155e",
   "metadata": {},
   "outputs": [
    {
     "name": "stderr",
     "output_type": "stream",
     "text": [
      "C:\\Users\\HP\\AppData\\Roaming\\Python\\Python312\\site-packages\\keras\\src\\layers\\core\\dense.py:87: UserWarning: Do not pass an `input_shape`/`input_dim` argument to a layer. When using Sequential models, prefer using an `Input(shape)` object as the first layer in the model instead.\n",
      "  super().__init__(activity_regularizer=activity_regularizer, **kwargs)\n"
     ]
    },
    {
     "name": "stdout",
     "output_type": "stream",
     "text": [
      "Params: {'activation': 'relu', 'hidden_layers': 1, 'learning_rate': 0.001, 'units': 8} - Score: 0.7207499742507935\n",
      "Params: {'activation': 'relu', 'hidden_layers': 1, 'learning_rate': 0.001, 'units': 16} - Score: 0.7785000205039978\n",
      "Params: {'activation': 'relu', 'hidden_layers': 1, 'learning_rate': 0.001, 'units': 32} - Score: 0.8482499718666077\n",
      "Params: {'activation': 'relu', 'hidden_layers': 1, 'learning_rate': 0.01, 'units': 8} - Score: 0.718500018119812\n",
      "Params: {'activation': 'relu', 'hidden_layers': 1, 'learning_rate': 0.01, 'units': 16} - Score: 0.8044999837875366\n",
      "Params: {'activation': 'relu', 'hidden_layers': 1, 'learning_rate': 0.01, 'units': 32} - Score: 0.8762500286102295\n",
      "Params: {'activation': 'relu', 'hidden_layers': 2, 'learning_rate': 0.001, 'units': 8} - Score: 0.6932500004768372\n",
      "Params: {'activation': 'relu', 'hidden_layers': 2, 'learning_rate': 0.001, 'units': 16} - Score: 0.7929999828338623\n",
      "Params: {'activation': 'relu', 'hidden_layers': 2, 'learning_rate': 0.001, 'units': 32} - Score: 0.8792499899864197\n",
      "Params: {'activation': 'relu', 'hidden_layers': 2, 'learning_rate': 0.01, 'units': 8} - Score: 0.7024999856948853\n",
      "Params: {'activation': 'relu', 'hidden_layers': 2, 'learning_rate': 0.01, 'units': 16} - Score: 0.8015000224113464\n",
      "Params: {'activation': 'relu', 'hidden_layers': 2, 'learning_rate': 0.01, 'units': 32} - Score: 0.8692499995231628\n",
      "Params: {'activation': 'relu', 'hidden_layers': 3, 'learning_rate': 0.001, 'units': 8} - Score: 0.6952499747276306\n",
      "Params: {'activation': 'relu', 'hidden_layers': 3, 'learning_rate': 0.001, 'units': 16} - Score: 0.8069999814033508\n",
      "Params: {'activation': 'relu', 'hidden_layers': 3, 'learning_rate': 0.001, 'units': 32} - Score: 0.8837500214576721\n",
      "Params: {'activation': 'relu', 'hidden_layers': 3, 'learning_rate': 0.01, 'units': 8} - Score: 0.684249997138977\n",
      "Params: {'activation': 'relu', 'hidden_layers': 3, 'learning_rate': 0.01, 'units': 16} - Score: 0.7985000014305115\n",
      "Params: {'activation': 'relu', 'hidden_layers': 3, 'learning_rate': 0.01, 'units': 32} - Score: 0.8287500143051147\n",
      "Params: {'activation': 'tanh', 'hidden_layers': 1, 'learning_rate': 0.001, 'units': 8} - Score: 0.6707500219345093\n",
      "Params: {'activation': 'tanh', 'hidden_layers': 1, 'learning_rate': 0.001, 'units': 16} - Score: 0.7682499885559082\n",
      "Params: {'activation': 'tanh', 'hidden_layers': 1, 'learning_rate': 0.001, 'units': 32} - Score: 0.8255000114440918\n",
      "Params: {'activation': 'tanh', 'hidden_layers': 1, 'learning_rate': 0.01, 'units': 8} - Score: 0.7174999713897705\n",
      "Params: {'activation': 'tanh', 'hidden_layers': 1, 'learning_rate': 0.01, 'units': 16} - Score: 0.7817500233650208\n",
      "Params: {'activation': 'tanh', 'hidden_layers': 1, 'learning_rate': 0.01, 'units': 32} - Score: 0.862500011920929\n",
      "Params: {'activation': 'tanh', 'hidden_layers': 2, 'learning_rate': 0.001, 'units': 8} - Score: 0.6604999899864197\n",
      "Params: {'activation': 'tanh', 'hidden_layers': 2, 'learning_rate': 0.001, 'units': 16} - Score: 0.7910000085830688\n",
      "Params: {'activation': 'tanh', 'hidden_layers': 2, 'learning_rate': 0.001, 'units': 32} - Score: 0.8732500076293945\n",
      "Params: {'activation': 'tanh', 'hidden_layers': 2, 'learning_rate': 0.01, 'units': 8} - Score: 0.6957499980926514\n",
      "Params: {'activation': 'tanh', 'hidden_layers': 2, 'learning_rate': 0.01, 'units': 16} - Score: 0.7985000014305115\n",
      "Params: {'activation': 'tanh', 'hidden_layers': 2, 'learning_rate': 0.01, 'units': 32} - Score: 0.859000027179718\n",
      "Params: {'activation': 'tanh', 'hidden_layers': 3, 'learning_rate': 0.001, 'units': 8} - Score: 0.6547499895095825\n",
      "Params: {'activation': 'tanh', 'hidden_layers': 3, 'learning_rate': 0.001, 'units': 16} - Score: 0.796750009059906\n",
      "Params: {'activation': 'tanh', 'hidden_layers': 3, 'learning_rate': 0.001, 'units': 32} - Score: 0.8967499732971191\n",
      "Params: {'activation': 'tanh', 'hidden_layers': 3, 'learning_rate': 0.01, 'units': 8} - Score: 0.6832500100135803\n",
      "Params: {'activation': 'tanh', 'hidden_layers': 3, 'learning_rate': 0.01, 'units': 16} - Score: 0.7732499837875366\n",
      "Params: {'activation': 'tanh', 'hidden_layers': 3, 'learning_rate': 0.01, 'units': 32} - Score: 0.8015000224113464\n",
      "Best Score: 0.8967499732971191\n",
      "Best Params: {'activation': 'tanh', 'hidden_layers': 3, 'learning_rate': 0.001, 'units': 32}\n"
     ]
    }
   ],
   "source": [
    "#Perform Hyperparameter Tuning\n",
    "param_grid = {                                        \n",
    "    'hidden_layers': [1, 2, 3],\n",
    "    'units': [8, 16, 32],\n",
    "    'activation': ['relu', 'tanh'],\n",
    "    'learning_rate': [0.001, 0.01]\n",
    "}\n",
    "\n",
    "best_score = 0\n",
    "best_params = {}\n",
    "\n",
    "for params in ParameterGrid(param_grid):\n",
    "    score = evaluate_model(**params)\n",
    "    print(f\"Params: {params} - Score: {score}\")\n",
    "    if score > best_score:\n",
    "        best_score = score\n",
    "        best_params = params\n",
    "\n",
    "print(f\"Best Score: {best_score}\")\n",
    "print(f\"Best Params: {best_params}\")\n"
   ]
  },
  {
   "cell_type": "code",
   "execution_count": 23,
   "id": "25d455d7-32ca-403a-9a34-754b5cf65ea9",
   "metadata": {},
   "outputs": [],
   "source": [
    "# Best parameters from the tuning process\n",
    "best_hidden_layers = best_params['hidden_layers']\n",
    "best_units = best_params['units']\n",
    "best_activation = best_params['activation']\n",
    "best_learning_rate = best_params['learning_rate']"
   ]
  },
  {
   "cell_type": "code",
   "execution_count": 24,
   "id": "559bfb52-3fb7-421a-94d1-54c3a63e4d66",
   "metadata": {},
   "outputs": [],
   "source": [
    "# Create the final model with the best parameters\n",
    "final_model = create_model(\n",
    "    hidden_layers=best_hidden_layers,\n",
    "    units=best_units,\n",
    "    activation=best_activation,\n",
    "    learning_rate=best_learning_rate\n",
    ")"
   ]
  },
  {
   "cell_type": "code",
   "execution_count": 25,
   "id": "f1b76409-bbe0-4b5e-9b60-7a01fa716ec0",
   "metadata": {},
   "outputs": [
    {
     "name": "stdout",
     "output_type": "stream",
     "text": [
      "Epoch 1/10\n",
      "\u001b[1m1600/1600\u001b[0m \u001b[32m━━━━━━━━━━━━━━━━━━━━\u001b[0m\u001b[37m\u001b[0m \u001b[1m5s\u001b[0m 2ms/step - accuracy: 0.4494 - loss: 2.0378\n",
      "Epoch 2/10\n",
      "\u001b[1m1600/1600\u001b[0m \u001b[32m━━━━━━━━━━━━━━━━━━━━\u001b[0m\u001b[37m\u001b[0m \u001b[1m5s\u001b[0m 2ms/step - accuracy: 0.7431 - loss: 0.9483\n",
      "Epoch 3/10\n",
      "\u001b[1m1600/1600\u001b[0m \u001b[32m━━━━━━━━━━━━━━━━━━━━\u001b[0m\u001b[37m\u001b[0m \u001b[1m5s\u001b[0m 2ms/step - accuracy: 0.7892 - loss: 0.7457\n",
      "Epoch 4/10\n",
      "\u001b[1m1600/1600\u001b[0m \u001b[32m━━━━━━━━━━━━━━━━━━━━\u001b[0m\u001b[37m\u001b[0m \u001b[1m3s\u001b[0m 2ms/step - accuracy: 0.8314 - loss: 0.6067\n",
      "Epoch 5/10\n",
      "\u001b[1m1600/1600\u001b[0m \u001b[32m━━━━━━━━━━━━━━━━━━━━\u001b[0m\u001b[37m\u001b[0m \u001b[1m3s\u001b[0m 2ms/step - accuracy: 0.8475 - loss: 0.5342\n",
      "Epoch 6/10\n",
      "\u001b[1m1600/1600\u001b[0m \u001b[32m━━━━━━━━━━━━━━━━━━━━\u001b[0m\u001b[37m\u001b[0m \u001b[1m3s\u001b[0m 2ms/step - accuracy: 0.8690 - loss: 0.4672\n",
      "Epoch 7/10\n",
      "\u001b[1m1600/1600\u001b[0m \u001b[32m━━━━━━━━━━━━━━━━━━━━\u001b[0m\u001b[37m\u001b[0m \u001b[1m3s\u001b[0m 2ms/step - accuracy: 0.8793 - loss: 0.4279\n",
      "Epoch 8/10\n",
      "\u001b[1m1600/1600\u001b[0m \u001b[32m━━━━━━━━━━━━━━━━━━━━\u001b[0m\u001b[37m\u001b[0m \u001b[1m3s\u001b[0m 2ms/step - accuracy: 0.8867 - loss: 0.3946\n",
      "Epoch 9/10\n",
      "\u001b[1m1600/1600\u001b[0m \u001b[32m━━━━━━━━━━━━━━━━━━━━\u001b[0m\u001b[37m\u001b[0m \u001b[1m3s\u001b[0m 2ms/step - accuracy: 0.8939 - loss: 0.3642\n",
      "Epoch 10/10\n",
      "\u001b[1m1600/1600\u001b[0m \u001b[32m━━━━━━━━━━━━━━━━━━━━\u001b[0m\u001b[37m\u001b[0m \u001b[1m3s\u001b[0m 2ms/step - accuracy: 0.8971 - loss: 0.3422\n"
     ]
    },
    {
     "data": {
      "text/plain": [
       "<keras.src.callbacks.history.History at 0x1e9bdcd5220>"
      ]
     },
     "execution_count": 25,
     "metadata": {},
     "output_type": "execute_result"
    }
   ],
   "source": [
    "# Train the final model on the full training data\n",
    "final_model.fit(X_train, y_train, epochs=10, batch_size=10, verbose=1)"
   ]
  },
  {
   "cell_type": "code",
   "execution_count": 26,
   "id": "bc44dc53-5c44-4937-8eef-b1f1cf0180ff",
   "metadata": {},
   "outputs": [
    {
     "name": "stdout",
     "output_type": "stream",
     "text": [
      "\u001b[1m125/125\u001b[0m \u001b[32m━━━━━━━━━━━━━━━━━━━━\u001b[0m\u001b[37m\u001b[0m \u001b[1m0s\u001b[0m 1ms/step - accuracy: 0.8935 - loss: 0.3740\n",
      "Test Loss: 0.36928442120552063\n",
      "Test Accuracy: 0.8882499933242798\n"
     ]
    }
   ],
   "source": [
    "# Evaluate the final model on the test data\n",
    "loss, accuracy = final_model.evaluate(X_test, y_test, verbose=1)\n",
    "print(f\"Test Loss: {loss}\")\n",
    "print(f\"Test Accuracy: {accuracy}\")"
   ]
  },
  {
   "cell_type": "code",
   "execution_count": 27,
   "id": "365bef96-97d6-48b2-bf8a-472b948e6384",
   "metadata": {},
   "outputs": [
    {
     "name": "stdout",
     "output_type": "stream",
     "text": [
      "\u001b[1m500/500\u001b[0m \u001b[32m━━━━━━━━━━━━━━━━━━━━\u001b[0m\u001b[37m\u001b[0m \u001b[1m1s\u001b[0m 2ms/step\n"
     ]
    }
   ],
   "source": [
    "# Make predictions on the train set\n",
    "yhat_train = final_model.predict(X_train)\n",
    "y_pred_classes = yhat_train.argmax(axis=-1)"
   ]
  },
  {
   "cell_type": "code",
   "execution_count": 28,
   "id": "e4d01621-44fb-4b5e-bb53-44f64d53e063",
   "metadata": {
    "scrolled": true
   },
   "outputs": [
    {
     "name": "stdout",
     "output_type": "stream",
     "text": [
      "[[596   1   0   0   3   0   8   3   0   1   3   0   3   0   0   1   0   5\n",
      "    2   0   2   0   0   1   3   1]\n",
      " [  0 544   0   3   4   0   6  16   0   0   0   0   1   0   1   0   4  29\n",
      "    6   1   0   1   0   2   0   1]\n",
      " [  0   0 568   0   8   0  12   1   0   0   4   2   0   0  10   0   0   0\n",
      "    1   1   2   1   0   0   0   0]\n",
      " [  0  17   0 546   0   2   5  19   0   0   9   0   0  11   8   0   0  22\n",
      "    6   0   1   0   0   2   0   0]\n",
      " [  0   0   4   0 548   4  18   2   0   0   5   4   0   0   0   0   0   1\n",
      "    5   1   0   0   0   3   0  11]\n",
      " [  1   2   0   1   4 537   4   1  14   1   0   0   0   3   1  24   0   2\n",
      "    9  12   0   0   0   0   0   2]\n",
      " [  0   2   3   3   4   1 575   3   0   1   5   0   0   0   2   0   4   1\n",
      "    6   0   1   0   1   0   1   1]\n",
      " [  3   6   2   7   0   4   1 476   0   5  19   1   1   8   8   1   0  30\n",
      "    0   0   3   1   0   0   4   3]\n",
      " [  0   2   0   0   3   2   1   0 577   9   0   0   0   0   0   1   0   0\n",
      "    2   1   0   0   0   2   0   9]\n",
      " [  3   1   0   0   1   0   1   3  35 526   4   0   0   0   1   0   2   4\n",
      "    0   0   0   0   0   0   1   8]\n",
      " [  0   0   0   1   5   0   2   7   0   0 537   0   0   1   1   0   0  18\n",
      "    1   0   0   0   0   6   0   0]\n",
      " [  0   2   0   0   7   0   4   3  12   0   2 546   0   0   5   0   3   3\n",
      "    4   0   2   0   0   2   0  15]\n",
      " [  5   0   0   0   0   0   3   7   0   0   0   0 600   5   1   0   0   4\n",
      "    0   0   5   2   3   0   0   0]\n",
      " [  1   2   0   1   0   0   0   6   0   0   3   0   4 553  15   1   0  16\n",
      "    0   0   1   1   3   0   0   0]\n",
      " [  2   0   1   5   0   0  10   7   0   0   2   0   0   0 531   2  10   8\n",
      "    0   1   2   0   5   0   0   0]\n",
      " [  0   7   0   0   0  27   9   1   1   0   0   0   0   1   4 590   3   1\n",
      "    1   0   0   0   1   0   2   0]\n",
      " [  2   4   0   0   2   0  15   0   0   1   1   0   0   0  17   3 558   1\n",
      "    2   0   0   0   1   0   4   5]\n",
      " [  2  13   1   6   0   0   7   7   0   0  14   0   1   1   4   0   1 556\n",
      "    0   1   0   0   0   1   0   0]\n",
      " [  1   3   0   2  11   3   2   0   3   2   1   2   0   0   0   0   0   2\n",
      "  563   4   0   0   0   1   2   9]\n",
      " [  0   3   0   0   6   0   0   4   4   0   5   0   0   0   0   0   0   0\n",
      "    0 612   0   3   0   2   3   2]\n",
      " [  2   0   4   0   1   0  11   7   0   0   2   0   3   2   5   0   3   0\n",
      "    0   0 608   2   0   1   0   0]\n",
      " [  0   7   0   0   1   1   8   1   0   0   1   0   1   2   4   2   0   5\n",
      "    0   3   1 565  10   0   2   0]\n",
      " [  0   0   0   0   0   0   0   0   0   0   0   0  18   4  12   0   0   2\n",
      "    0   0   8   1 542   0   0   0]\n",
      " [  0   0   0   5   7   1  13   2  16   1  10   6   0   0   0   0   4   1\n",
      "    1   2   0   0   0 552   0   4]\n",
      " [  0   2   0   0   0   3   1   3   1   0   0   0   0   0   1   5   8   0\n",
      "    2  10   5   8   0   3 590   0]\n",
      " [  0   0   0   0   7   1   0   1   0   1   1   0   0   0   0   0   5   3\n",
      "    3   2   0   0   0   1   0 575]]\n",
      "              precision    recall  f1-score   support\n",
      "\n",
      "           0       0.96      0.94      0.95       633\n",
      "           1       0.88      0.88      0.88       619\n",
      "           2       0.97      0.93      0.95       610\n",
      "           3       0.94      0.84      0.89       648\n",
      "           4       0.88      0.90      0.89       606\n",
      "           5       0.92      0.87      0.89       618\n",
      "           6       0.80      0.94      0.86       614\n",
      "           7       0.82      0.82      0.82       583\n",
      "           8       0.87      0.95      0.91       609\n",
      "           9       0.96      0.89      0.92       590\n",
      "          10       0.86      0.93      0.89       579\n",
      "          11       0.97      0.90      0.93       610\n",
      "          12       0.95      0.94      0.95       635\n",
      "          13       0.94      0.91      0.92       607\n",
      "          14       0.84      0.91      0.87       586\n",
      "          15       0.94      0.91      0.92       648\n",
      "          16       0.92      0.91      0.91       616\n",
      "          17       0.78      0.90      0.84       615\n",
      "          18       0.92      0.92      0.92       611\n",
      "          19       0.94      0.95      0.95       644\n",
      "          20       0.95      0.93      0.94       651\n",
      "          21       0.97      0.92      0.94       614\n",
      "          22       0.96      0.92      0.94       587\n",
      "          23       0.95      0.88      0.92       625\n",
      "          24       0.96      0.92      0.94       642\n",
      "          25       0.89      0.96      0.92       600\n",
      "\n",
      "    accuracy                           0.91     16000\n",
      "   macro avg       0.91      0.91      0.91     16000\n",
      "weighted avg       0.91      0.91      0.91     16000\n",
      "\n"
     ]
    }
   ],
   "source": [
    "from sklearn.metrics import confusion_matrix, classification_report\n",
    "print(confusion_matrix(y_train, y_pred_classes ))\n",
    "print(classification_report(y_train, y_pred_classes ))"
   ]
  },
  {
   "cell_type": "code",
   "execution_count": 29,
   "id": "0bc798b5-419b-4b71-99cf-b63faa4c2468",
   "metadata": {},
   "outputs": [
    {
     "name": "stdout",
     "output_type": "stream",
     "text": [
      "\u001b[1m125/125\u001b[0m \u001b[32m━━━━━━━━━━━━━━━━━━━━\u001b[0m\u001b[37m\u001b[0m \u001b[1m0s\u001b[0m 2ms/step\n"
     ]
    }
   ],
   "source": [
    "# Make predictions on the test set\n",
    "yhat_test = final_model.predict(X_test)\n",
    "y_pred_classes1 = yhat_test.argmax(axis=-1)"
   ]
  },
  {
   "cell_type": "code",
   "execution_count": 30,
   "id": "d646243f-5a03-45ff-adf1-56993f3d4f01",
   "metadata": {
    "scrolled": true
   },
   "outputs": [
    {
     "name": "stdout",
     "output_type": "stream",
     "text": [
      "[[148   0   0   0   0   0   1   3   0   1   2   0   0   0   0   0   0   0\n",
      "    0   0   0   0   0   0   1   0]\n",
      " [  0 117   0   2   1   0   2   5   0   0   1   0   0   1   0   0   1  15\n",
      "    2   0   0   0   0   0   0   0]\n",
      " [  0   0 112   0   3   0   6   1   0   0   0   0   0   0   3   0   0   0\n",
      "    1   0   0   0   0   0   0   0]\n",
      " [  0   3   0 124   1   0   0   9   0   0   5   0   0   3   4   1   0   5\n",
      "    1   0   0   0   0   0   0   1]\n",
      " [  0   0   3   0 141   2   6   2   0   0   0   2   0   0   0   0   0   1\n",
      "    1   0   0   0   0   0   0   4]\n",
      " [  0   0   0   0   1 136   0   1   3   0   0   0   0   0   0   9   0   0\n",
      "    3   2   0   1   0   0   1   0]\n",
      " [  0   1   0   2   5   1 144   0   0   0   1   0   0   0   1   0   0   0\n",
      "    3   0   0   1   0   0   0   0]\n",
      " [  2   0   0   1   2   3   0 121   0   0   7   0   0   5   3   0   0   6\n",
      "    0   0   0   0   0   0   1   0]\n",
      " [  0   0   0   1   0   2   0   0 138   3   0   0   0   0   0   0   0   0\n",
      "    1   0   0   0   0   0   1   0]\n",
      " [  1   0   0   0   0   0   0   1   8 139   1   0   0   0   2   0   1   1\n",
      "    0   0   0   0   0   1   0   2]\n",
      " [  1   0   0   1   0   0   2   2   0   0 146   0   0   0   0   0   0   5\n",
      "    0   0   0   0   0   3   0   0]\n",
      " [  0   0   1   0   0   0   1   0   2   0   0 137   0   0   3   0   0   1\n",
      "    1   0   1   0   0   2   1   1]\n",
      " [  1   0   0   0   0   0   2   0   0   0   0   0 149   4   0   0   0   1\n",
      "    0   0   0   0   0   0   0   0]\n",
      " [  0   1   0   1   0   0   1   2   0   0   1   0   1 155   9   0   0   4\n",
      "    0   0   0   0   1   0   0   0]\n",
      " [  0   0   1   0   0   0   2   2   0   0   0   0   0   0 149   1   3   4\n",
      "    0   1   0   0   4   0   0   0]\n",
      " [  0   0   0   1   1   6   5   0   1   0   0   0   0   0   1 139   1   0\n",
      "    0   0   0   0   0   0   0   0]\n",
      " [  1   2   0   0   0   0   2   0   0   0   0   1   0   0   1   0 154   1\n",
      "    2   0   0   0   0   0   2   1]\n",
      " [  0   1   0   1   0   0   2   0   0   0   5   0   1   1   1   0   0 131\n",
      "    0   0   0   0   0   0   0   0]\n",
      " [  0   3   0   0   1   2   0   1   0   1   0   0   0   0   0   0   0   0\n",
      "  126   0   0   0   0   0   2   1]\n",
      " [  0   0   0   1   1   1   0   0   1   0   2   0   0   0   0   0   0   0\n",
      "    0 140   0   0   0   0   4   2]\n",
      " [  1   0   0   0   0   0   9   6   0   0   1   0   1   0   1   0   0   0\n",
      "    0   0 141   2   0   0   0   0]\n",
      " [  0   1   0   0   0   0   3   1   0   0   0   0   0   0   4   1   0   1\n",
      "    1   1   0 129   5   0   3   0]\n",
      " [  0   0   0   0   0   0   0   0   0   0   0   0  13   1   4   0   0   1\n",
      "    0   0   2   0 144   0   0   0]\n",
      " [  0   0   0   0   2   0   2   0   3   0   2   7   0   0   0   0   1   0\n",
      "    1   0   0   0   0 140   1   3]\n",
      " [  0   0   0   0   0   0   0   0   0   0   0   0   0   0   0   3   2   0\n",
      "    0   3   0   2   0   0 134   0]\n",
      " [  0   0   0   0   2   2   0   0   0   1   0   0   0   0   0   0   1   1\n",
      "    7   0   0   0   0   1   0 119]]\n",
      "              precision    recall  f1-score   support\n",
      "\n",
      "           0       0.95      0.95      0.95       156\n",
      "           1       0.91      0.80      0.85       147\n",
      "           2       0.96      0.89      0.92       126\n",
      "           3       0.92      0.79      0.85       157\n",
      "           4       0.88      0.87      0.87       162\n",
      "           5       0.88      0.87      0.87       157\n",
      "           6       0.76      0.91      0.83       159\n",
      "           7       0.77      0.80      0.79       151\n",
      "           8       0.88      0.95      0.91       146\n",
      "           9       0.96      0.89      0.92       157\n",
      "          10       0.84      0.91      0.87       160\n",
      "          11       0.93      0.91      0.92       151\n",
      "          12       0.90      0.95      0.93       157\n",
      "          13       0.91      0.88      0.90       176\n",
      "          14       0.80      0.89      0.84       167\n",
      "          15       0.90      0.90      0.90       155\n",
      "          16       0.94      0.92      0.93       167\n",
      "          17       0.74      0.92      0.82       143\n",
      "          18       0.84      0.92      0.88       137\n",
      "          19       0.95      0.92      0.94       152\n",
      "          20       0.98      0.87      0.92       162\n",
      "          21       0.96      0.86      0.91       150\n",
      "          22       0.94      0.87      0.90       165\n",
      "          23       0.95      0.86      0.91       162\n",
      "          24       0.89      0.93      0.91       144\n",
      "          25       0.89      0.89      0.89       134\n",
      "\n",
      "    accuracy                           0.89      4000\n",
      "   macro avg       0.89      0.89      0.89      4000\n",
      "weighted avg       0.89      0.89      0.89      4000\n",
      "\n"
     ]
    }
   ],
   "source": [
    "from sklearn.metrics import confusion_matrix, classification_report\n",
    "print(confusion_matrix(y_test, y_pred_classes1 ))\n",
    "print(classification_report(y_test, y_pred_classes1 ))"
   ]
  },
  {
   "cell_type": "markdown",
   "id": "bb9dfdea-440b-4164-85af-37e8f472428f",
   "metadata": {},
   "source": [
    "# Training Set Metrics"
   ]
  },
  {
   "cell_type": "raw",
   "id": "38070921-4490-4f10-af21-3af0f88d70c2",
   "metadata": {},
   "source": [
    "Precision, Recall, and F1-score:\n",
    "The model demonstrates high precision and recall across most classes, with some minor variations.\n",
    "For instance, class 1 has a precision of 0.82 and a recall of 0.93, leading to an F1-score of 0.87, which is lower compared to other classes but still acceptable.\n",
    "Class 24 shows excellent performance with a precision of 0.97, recall of 0.91, and an F1-score of 0.94.\n",
    "Testing Set Metrics\n",
    "Precision, Recall, and F1-score:\n",
    "The model maintains good precision and recall, though slightly lower than on the training set.\n",
    "For example, class 1 has a precision of 0.80 and a recall of 0.85, resulting in an F1-score of 0.82.\n",
    "Class 20 shows high performance with a precision of 0.96, recall of 0.92, and an F1-score of 0.94."
   ]
  },
  {
   "cell_type": "markdown",
   "id": "73d72b78-8665-493d-850e-5f6b3a69f1e4",
   "metadata": {},
   "source": [
    "# Tuned Model"
   ]
  },
  {
   "cell_type": "raw",
   "id": "a20dbee0-1bc3-4179-aca3-e0c702fb7a7d",
   "metadata": {},
   "source": [
    "Training Accuracy: 91%\n",
    "Testing Accuracy: 89%\n",
    "Default Model\n",
    "Training Accuracy: 81.24%\n",
    "Testing Accuracy: 80%\n",
    "Overall Improvement: The tuned model outperforms the default model in both training and testing accuracy. The tuned model has higher precision, recall, and F1-scores across most classes.\n",
    "Consistency: The performance improvements are consistent across various metrics, indicating a well-tuned model."
   ]
  },
  {
   "cell_type": "code",
   "execution_count": null,
   "id": "e53f0222-e3ee-4f8c-9b92-d0d9b5d9abca",
   "metadata": {},
   "outputs": [],
   "source": []
  }
 ],
 "metadata": {
  "kernelspec": {
   "display_name": "Python 3 (ipykernel)",
   "language": "python",
   "name": "python3"
  },
  "language_info": {
   "codemirror_mode": {
    "name": "ipython",
    "version": 3
   },
   "file_extension": ".py",
   "mimetype": "text/x-python",
   "name": "python",
   "nbconvert_exporter": "python",
   "pygments_lexer": "ipython3",
   "version": "3.12.4"
  }
 },
 "nbformat": 4,
 "nbformat_minor": 5
}
